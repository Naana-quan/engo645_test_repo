{
 "cells": [
  {
   "cell_type": "code",
   "execution_count": 1,
   "id": "2073e86d-6cc8-4d2a-99f7-02cd0d4b53ec",
   "metadata": {},
   "outputs": [
    {
     "name": "stdout",
     "output_type": "stream",
     "text": [
      "HELLO NAANA QUANSAH\n"
     ]
    }
   ],
   "source": [
    "print(\"HELLO NAANA QUANSAH\")"
   ]
  },
  {
   "cell_type": "code",
   "execution_count": null,
   "id": "6b14e761-8db7-411a-8de8-29bda91a85a8",
   "metadata": {},
   "outputs": [],
   "source": []
  }
 ],
 "metadata": {
  "kernelspec": {
   "display_name": "Python 3 (ipykernel)",
   "language": "python",
   "name": "python3"
  },
  "language_info": {
   "codemirror_mode": {
    "name": "ipython",
    "version": 3
   },
   "file_extension": ".py",
   "mimetype": "text/x-python",
   "name": "python",
   "nbconvert_exporter": "python",
   "pygments_lexer": "ipython3",
   "version": "3.11.5"
  }
 },
 "nbformat": 4,
 "nbformat_minor": 5
}
